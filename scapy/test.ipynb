{
 "cells": [
  {
   "cell_type": "code",
   "execution_count": 1,
   "metadata": {},
   "outputs": [
    {
     "name": "stdout",
     "output_type": "stream",
     "text": [
      "Starting XSS detection...\n",
      "[XSS Detected] -> GET /408555383173888149493475838321072461928/%3Cscript%3Ealert( HTTP/1.1\n",
      "Host: google-gruyere.appspot.com\n",
      "Connection: keep-alive\n",
      "User-Agent: Mozilla/5.0 (Windows NT 10.0; Win64; x64) AppleWebKit/537.36 (KHTML, like Gecko) Chrome/130.0.0.0 YaBrowser/24.12.0.0 Safari/537.36\n",
      "Accept: image/avif,image/webp,image/apng,image/svg+xml,image/*,*/*;q=0.8\n",
      "Referer: http://google-gruyere.appspot.com/408555383173888149493475838321072461928/snippets.gtl\n",
      "Accept-Encoding: gzip, deflate\n",
      "Accept-Language: ru,en;q=0.9\n",
      "Cookie: GRUYERE=124901589|vas||author; GRUYERE_ID=408555383173888149493475838321072461928\n",
      "\n",
      "\n"
     ]
    },
    {
     "data": {
      "text/plain": [
       "<Sniffed: TCP:0 UDP:0 ICMP:0 Other:0>"
      ]
     },
     "execution_count": 1,
     "metadata": {},
     "output_type": "execute_result"
    }
   ],
   "source": [
    "from scapy.all import sniff\n",
    "\n",
    "def detect_xss(packet):\n",
    "    if packet.haslayer(\"Raw\"):\n",
    "        try:\n",
    "            xss_payload = packet[\"Raw\"].load.decode(errors=\"ignore\")\n",
    "            if \"<script>\" in xss_payload or \"alert(\" in xss_payload:\n",
    "                print(\"[XSS Detected] ->\", xss_payload)\n",
    "        except Exception as e:\n",
    "            print(f\"Error decoding packet: {e}\")\n",
    "\n",
    "print(\"Starting XSS detection...\")\n",
    "sniff(iface=\"\\\\Device\\\\NPF_{E2535DD2-E092-4923-8A26-16502BA032E6}\", filter=\"tcp port 80\", prn=detect_xss, store=False)"
   ]
  }
 ],
 "metadata": {
  "kernelspec": {
   "display_name": "Python 3",
   "language": "python",
   "name": "python3"
  },
  "language_info": {
   "codemirror_mode": {
    "name": "ipython",
    "version": 3
   },
   "file_extension": ".py",
   "mimetype": "text/x-python",
   "name": "python",
   "nbconvert_exporter": "python",
   "pygments_lexer": "ipython3",
   "version": "3.13.0"
  }
 },
 "nbformat": 4,
 "nbformat_minor": 2
}
