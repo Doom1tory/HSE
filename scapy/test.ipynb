{
 "cells": [
  {
   "cell_type": "code",
   "execution_count": null,
   "metadata": {},
   "outputs": [
    {
     "name": "stdout",
     "output_type": "stream",
     "text": [
      "Файл events.json не найден. Проверьте путь к файлу.\n",
      "Ошибка при преобразовании данных: name 'data' is not defined\n"
     ]
    },
    {
     "ename": "NameError",
     "evalue": "name 'df' is not defined",
     "output_type": "error",
     "traceback": [
      "\u001b[1;31m---------------------------------------------------------------------------\u001b[0m",
      "\u001b[1;31mNameError\u001b[0m                                 Traceback (most recent call last)",
      "Cell \u001b[1;32mIn[1], line 24\u001b[0m\n\u001b[0;32m     21\u001b[0m     exit()\n\u001b[0;32m     23\u001b[0m \u001b[38;5;66;03m# Шаг 2: Анализ данных\u001b[39;00m\n\u001b[1;32m---> 24\u001b[0m \u001b[38;5;28;01mif\u001b[39;00m \u001b[38;5;124m'\u001b[39m\u001b[38;5;124msignature\u001b[39m\u001b[38;5;124m'\u001b[39m \u001b[38;5;129;01mnot\u001b[39;00m \u001b[38;5;129;01min\u001b[39;00m \u001b[43mdf\u001b[49m\u001b[38;5;241m.\u001b[39mcolumns:\n\u001b[0;32m     25\u001b[0m     \u001b[38;5;28mprint\u001b[39m(\u001b[38;5;124m\"\u001b[39m\u001b[38;5;124mВ данных отсутствует колонка \u001b[39m\u001b[38;5;124m'\u001b[39m\u001b[38;5;124msignature\u001b[39m\u001b[38;5;124m'\u001b[39m\u001b[38;5;124m. Проверьте структуру JSON.\u001b[39m\u001b[38;5;124m\"\u001b[39m)\n\u001b[0;32m     26\u001b[0m     exit()\n",
      "\u001b[1;31mNameError\u001b[0m: name 'df' is not defined"
     ]
    },
    {
     "ename": "",
     "evalue": "",
     "output_type": "error",
     "traceback": [
      "\u001b[1;31mThe Kernel crashed while executing code in the current cell or a previous cell. \n",
      "\u001b[1;31mPlease review the code in the cell(s) to identify a possible cause of the failure. \n",
      "\u001b[1;31mClick <a href='https://aka.ms/vscodeJupyterKernelCrash'>here</a> for more info. \n",
      "\u001b[1;31mView Jupyter <a href='command:jupyter.viewOutput'>log</a> for further details."
     ]
    }
   ],
   "source": [
    "import pandas as pd\n",
    "import matplotlib.pyplot as plt\n",
    "import seaborn as sns\n",
    "import json\n",
    "\n",
    "# Шаг 1: Загрузка данных из JSON-файла\n",
    "try:\n",
    "    with open('events.json', 'r') as file:\n",
    "        data = json.load(file)\n",
    "    print(\"Данные успешно загружены!\")\n",
    "except FileNotFoundError:\n",
    "    print(\"Файл events.json не найден. Проверьте путь к файлу.\")\n",
    "    exit()\n",
    "\n",
    "# Преобразуем данные в DataFrame\n",
    "try:\n",
    "    df = pd.DataFrame(data)\n",
    "    print(\"Данные успешно преобразованы в DataFrame!\")\n",
    "except Exception as e:\n",
    "    print(f\"Ошибка при преобразовании данных: {e}\")\n",
    "    exit()\n",
    "\n",
    "# Шаг 2: Анализ данных\n",
    "if 'signature' not in df.columns:\n",
    "    print(\"В данных отсутствует колонка 'signature'. Проверьте структуру JSON.\")\n",
    "    exit()\n",
    "\n",
    "# Считаем количество событий по типам\n",
    "event_counts = df['signature'].value_counts()\n",
    "print(\"Распределение событий по типам:\")\n",
    "print(event_counts)\n",
    "\n",
    "# Шаг 3: Визуализация данных\n",
    "plt.figure(figsize=(10, 6))\n",
    "sns.barplot(x=event_counts.index, y=event_counts.values, palette=\"viridis\")\n",
    "plt.title(\"Распределение событий по типам\", fontsize=16)\n",
    "plt.xlabel(\"Тип события\", fontsize=12)\n",
    "plt.ylabel(\"Количество\", fontsize=12)\n",
    "plt.xticks(rotation=45)\n",
    "plt.tight_layout()\n",
    "\n",
    "# Сохраняем график в файл и показываем его\n",
    "plt.savefig('event_distribution.png')\n",
    "plt.show()"
   ]
  }
 ],
 "metadata": {
  "kernelspec": {
   "display_name": "Python 3",
   "language": "python",
   "name": "python3"
  },
  "language_info": {
   "codemirror_mode": {
    "name": "ipython",
    "version": 3
   },
   "file_extension": ".py",
   "mimetype": "text/x-python",
   "name": "python",
   "nbconvert_exporter": "python",
   "pygments_lexer": "ipython3",
   "version": "3.13.0"
  }
 },
 "nbformat": 4,
 "nbformat_minor": 2
}
