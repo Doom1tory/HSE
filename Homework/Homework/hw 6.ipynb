{
 "cells": [
  {
   "cell_type": "markdown",
   "metadata": {},
   "source": [
    "Задание 6\n",
    "Нужно реализовать класс Account, который отражает абстракцию базового\n",
    "поведения банковского аккаунта:\n",
    "● создать банковский аккаунт с параметрами: имя; стартовый баланс с\n",
    "которым зарегистрирован аккаунт; история операций*;\n",
    "● реализовать два метода, которые позволяют положить деньги на счёт\n",
    "или снять деньги со счёта;\n",
    "● продумать, как можно хранить историю поступления или снятия\n",
    "денег, чтобы с ней было удобно работать*.\n",
    "*Задачи повышенной сложности на 9 и 10 баллов"
   ]
  },
  {
   "cell_type": "code",
   "execution_count": null,
   "metadata": {},
   "outputs": [],
   "source": [
    "import datetime\n",
    "\n",
    "class Account:\n",
    "    def init(self, name, balance=1000):\n",
    "        self.name = name\n",
    "        self.balance = balance\n",
    "        self.transactions = []\n",
    "\n",
    "    def deposit(self, amount):\n",
    "        self.balance += amount\n",
    "        self._add_transaction('deposit', amount)\n",
    "\n",
    "    def withdraw(self, amount):\n",
    "        if amount > self.balance:\n",
    "            return \"invalid transaction\"\n",
    "        self.balance -= amount\n",
    "        self._add_transaction('withdraw', amount)\n",
    "\n",
    "    def _add_transaction(self, type, amount):\n",
    "        self.transactions.append({\n",
    "            'type': type,\n",
    "            'amount': amount,\n",
    "            'date': datetime.datetime.now().strftime('%Y-%m-%d %H:%M:%S')\n",
    "        })\n",
    "\n",
    "    def get_balance(self):\n",
    "        return self.balance\n",
    "\n",
    "    def get_transactions(self):\n",
    "        return self.transactions\n",
    "\n",
    "class MinimumBalanceAccount(Account):\n",
    "    def init(self, name, balance=1000, minimum_balance=100):\n",
    "        super().init(name, balance)\n",
    "        self.minimum_balance = minimum_balance\n",
    "\n",
    "    def withdraw(self, amount):\n",
    "        if self.balance - amount < self.minimum_balance:\n",
    "            return \"invalid transaction\"\n",
    "        return super().withdraw(amount)\n",
    "\n",
    "# Пример использования\n",
    "account = Account(\"sasha\")\n",
    "account.deposit(200)\n",
    "account.withdraw(50)\n",
    "print(account.get_balance())  # 1150\n",
    "print(account.get_transactions())\n",
    "\n",
    "min_balance_account = MinimumBalanceAccount(\"text\", 1000, 500)\n",
    "print(min_balance_account.withdraw(600))  # \"invalid transaction\"\n",
    "min_balance_account.withdraw(400)\n",
    "print(min_balance_account.get_balance())  # 600"
   ]
  }
 ],
 "metadata": {
  "language_info": {
   "name": "python"
  }
 },
 "nbformat": 4,
 "nbformat_minor": 2
}
