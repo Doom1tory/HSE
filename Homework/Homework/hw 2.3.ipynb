{
 "cells": [
  {
   "cell_type": "markdown",
   "metadata": {},
   "source": [
    "Задание 1\n",
    "Напишите код на Python для решения следующей задачи.\n",
    "Реализуйте функцию sum_distance(from, to), которая суммирует все числа от\n",
    "значения from до величины to включительно.\n",
    "Примечание. Если пользователь задаст первое число, которое окажется\n",
    "больше второго, просто поменяйте их местами."
   ]
  },
  {
   "cell_type": "code",
   "execution_count": 4,
   "metadata": {},
   "outputs": [
    {
     "name": "stdout",
     "output_type": "stream",
     "text": [
      "15\n",
      "15\n"
     ]
    }
   ],
   "source": [
    "def sum_distance(from_value, to_value):\n",
    "    \n",
    "    if from_value > to_value:\n",
    "        from_value, to_value = to_value, from_value\n",
    "    \n",
    "    total_sum = sum(range(from_value, to_value + 1))\n",
    "    \n",
    "    return total_sum\n",
    "print(sum_distance(1, 5))   # Ожидаемый результат: 15\n",
    "print(sum_distance(5, 1))   # Ожидаемый результат: 15 "
   ]
  },
  {
   "cell_type": "markdown",
   "metadata": {},
   "source": [
    "Задание 2\n",
    "\n",
    "Напишите код на Python для решения следующей задачи.\n",
    "Реализуйте функцию trim_and_repeat(), которая принимает три параметра:\n",
    "● строку;\n",
    "● offset — число символов, на которое нужно обрезать строку слева;\n",
    "● repetitions — сколько раз нужно повторить строку перед возвратом\n",
    "получившейся строки.\n",
    "Число символов для среза по умолчанию равно 0, а количество повторений — 1.\n",
    "Функция должна возвращать полученную строку."
   ]
  },
  {
   "cell_type": "code",
   "execution_count": null,
   "metadata": {},
   "outputs": [
    {
     "name": "stdout",
     "output_type": "stream",
     "text": [
      "Trim and Repeat\n"
     ]
    }
   ],
   "source": [
    "def trim_and_repeat(string, offset=0, repetitions=1):\n",
    "    \n",
    "    trimmed_string = string[offset:]\n",
    "    \n",
    "    result = trimmed_string * repetitions\n",
    "    \n",
    "    return result\n",
    "\n",
    "print(trim_and_repeat(\"Trim and Repeat\"))# Ожидаемый результат: Trim and Repeat"
   ]
  }
 ],
 "metadata": {
  "kernelspec": {
   "display_name": "Python 3",
   "language": "python",
   "name": "python3"
  },
  "language_info": {
   "codemirror_mode": {
    "name": "ipython",
    "version": 3
   },
   "file_extension": ".py",
   "mimetype": "text/x-python",
   "name": "python",
   "nbconvert_exporter": "python",
   "pygments_lexer": "ipython3",
   "version": "3.13.0"
  }
 },
 "nbformat": 4,
 "nbformat_minor": 2
}
