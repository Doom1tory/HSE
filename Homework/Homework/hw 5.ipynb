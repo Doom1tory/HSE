{
 "cells": [
  {
   "cell_type": "markdown",
   "metadata": {},
   "source": [
    "Печатные газеты использовали свой формат дат для каждого выпуска. Для каждой газеты из списка напишите формат указанной даты для перевода в объект datetime: The Moscow Times - Wednesday, October 2, 2002 The Guardian - Friday, 11.10.13 Daily News - Thursday, 18 August 1977 Пример работы программы Программа должна выводить на экран объекты типа datetime, соответствующие датам в условии задачи"
   ]
  },
  {
   "cell_type": "code",
   "execution_count": null,
   "metadata": {},
   "outputs": [
    {
     "name": "stdout",
     "output_type": "stream",
     "text": [
      "The Moscow Times - Wednesday, October  2, 2002\n",
      "The Guardian - Friday, 11.10.2013\n",
      "Daily News -  Thursday, 18 August 1977\n"
     ]
    }
   ],
   "source": [
    "from datetime import datetime\n",
    "\n",
    "# The Moscow Times\n",
    "moscow_times_date = \"Wednesday, October 2, 2002\"\n",
    "moscow_times_datetime = datetime.strptime(moscow_times_date, \"%A, %B %d, %Y\")\n",
    "print(\"The Moscow Times:\", moscow_times_datetime)\n",
    "\n",
    "# The Guardian\n",
    "guardian_date = \"Friday, 11.10.13\"\n",
    "guardian_datetime = datetime.strptime(guardian_date, \"%A, %d.%m.%y\")\n",
    "print(\"The Guardian:\", guardian_datetime)\n",
    "\n",
    "# Daily News\n",
    "daily_news_date = \"Thursday, 18 August 1977\"\n",
    "daily_news_datetime = datetime.strptime(daily_news_date, \"%A, %d %B %Y\")\n",
    "print(\"Daily News:\", daily_news_datetime)"
   ]
  }
 ],
 "metadata": {
  "kernelspec": {
   "display_name": "Python 3",
   "language": "python",
   "name": "python3"
  },
  "language_info": {
   "codemirror_mode": {
    "name": "ipython",
    "version": 3
   },
   "file_extension": ".py",
   "mimetype": "text/x-python",
   "name": "python",
   "nbconvert_exporter": "python",
   "pygments_lexer": "ipython3",
   "version": "3.13.0"
  }
 },
 "nbformat": 4,
 "nbformat_minor": 2
}
