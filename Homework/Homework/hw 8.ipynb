{
 "cells": [
  {
   "cell_type": "markdown",
   "metadata": {},
   "source": [
    "Задание 2. Работа с параметрами запроса (OpenWeather API)"
   ]
  },
  {
   "cell_type": "code",
   "execution_count": 11,
   "metadata": {},
   "outputs": [
    {
     "name": "stdout",
     "output_type": "stream",
     "text": [
      "Текущая температура в Москва: 2.75°C\n",
      "Описание погоды: облачно с прояснениями\n"
     ]
    }
   ],
   "source": [
    "import requests\n",
    "\n",
    "# API ключ от OpenWeather\n",
    "api_key = '666a6a73c3055bce79f25295c174410a'\n",
    "\n",
    "# Город\n",
    "city = 'Москва'\n",
    "\n",
    "# URL для запроса погоды (версия 2.5)\n",
    "url = f'http://api.openweathermap.org/data/2.5/weather?q={city}&appid={api_key}&units=metric&lang=ru'\n",
    "\n",
    "# Отправка GET-запроса\n",
    "response = requests.get(url)\n",
    "\n",
    "# Проверка статуса ответа\n",
    "if response.status_code == 200:\n",
    "    # Преобразование ответа в JSON\n",
    "    weather_data = response.json()\n",
    "\n",
    "    # Извлечение и вывод данных о погоде\n",
    "    temperature = weather_data['main']['temp']\n",
    "    description = weather_data['weather'][0]['description']\n",
    "\n",
    "    print(f\"Текущая температура в {city}: {temperature}°C\")\n",
    "    print(f\"Описание погоды: {description}\")\n",
    "elif response.status_code == 401:\n",
    "    print(\"Ошибка 401: Неверный API-ключ или ключ не активирован.\")\n",
    "elif response.status_code == 404:\n",
    "    print(\"Ошибка 404: Город не найден.\")\n",
    "else:\n",
    "    print(f\"Ошибка {response.status_code}: {response.reason}\")"
   ]
  },
  {
   "cell_type": "markdown",
   "metadata": {},
   "source": [
    "Задание 1. Получение данных из публичного API (JSONPlaceholder)"
   ]
  },
  {
   "cell_type": "code",
   "execution_count": 1,
   "metadata": {},
   "outputs": [
    {
     "name": "stdout",
     "output_type": "stream",
     "text": [
      "Заголовок: sunt aut facere repellat provident occaecati excepturi optio reprehenderit\n",
      "Тело: quia et suscipit\n",
      "suscipit recusandae consequuntur expedita et cum\n",
      "reprehenderit molestiae ut ut quas totam\n",
      "nostrum rerum est autem sunt rem eveniet architecto\n",
      "----------------------------------------\n",
      "Заголовок: qui est esse\n",
      "Тело: est rerum tempore vitae\n",
      "sequi sint nihil reprehenderit dolor beatae ea dolores neque\n",
      "fugiat blanditiis voluptate porro vel nihil molestiae ut reiciendis\n",
      "qui aperiam non debitis possimus qui neque nisi nulla\n",
      "----------------------------------------\n",
      "Заголовок: ea molestias quasi exercitationem repellat qui ipsa sit aut\n",
      "Тело: et iusto sed quo iure\n",
      "voluptatem occaecati omnis eligendi aut ad\n",
      "voluptatem doloribus vel accusantium quis pariatur\n",
      "molestiae porro eius odio et labore et velit aut\n",
      "----------------------------------------\n",
      "Заголовок: eum et est occaecati\n",
      "Тело: ullam et saepe reiciendis voluptatem adipisci\n",
      "sit amet autem assumenda provident rerum culpa\n",
      "quis hic commodi nesciunt rem tenetur doloremque ipsam iure\n",
      "quis sunt voluptatem rerum illo velit\n",
      "----------------------------------------\n",
      "Заголовок: nesciunt quas odio\n",
      "Тело: repudiandae veniam quaerat sunt sed\n",
      "alias aut fugiat sit autem sed est\n",
      "voluptatem omnis possimus esse voluptatibus quis\n",
      "est aut tenetur dolor neque\n",
      "----------------------------------------\n"
     ]
    }
   ],
   "source": [
    "\n",
    "import requests\n",
    "\n",
    "# URL для получения постов\n",
    "url = 'https://jsonplaceholder.typicode.com/posts'\n",
    "\n",
    "# Отправка GET-запроса\n",
    "response = requests.get(url)\n",
    "\n",
    "# Проверка статуса ответа\n",
    "if response.status_code == 200:\n",
    "    # Преобразование ответа в JSON\n",
    "    posts = response.json()\n",
    "\n",
    "    # Вывод заголовков и тел первых 5 постов\n",
    "    for post in posts[:5]:\n",
    "        print(f\"Заголовок: {post['title']}\")\n",
    "        print(f\"Тело: {post['body']}\")\n",
    "        print('-' * 40)\n",
    "else:\n",
    "    print(f\"Ошибка: {response.status_code}\")"
   ]
  }
 ],
 "metadata": {
  "kernelspec": {
   "display_name": "Python 3",
   "language": "python",
   "name": "python3"
  },
  "language_info": {
   "codemirror_mode": {
    "name": "ipython",
    "version": 3
   },
   "file_extension": ".py",
   "mimetype": "text/x-python",
   "name": "python",
   "nbconvert_exporter": "python",
   "pygments_lexer": "ipython3",
   "version": "3.13.0"
  }
 },
 "nbformat": 4,
 "nbformat_minor": 2
}
