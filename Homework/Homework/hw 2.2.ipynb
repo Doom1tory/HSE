{
 "cells": [
  {
   "cell_type": "markdown",
   "metadata": {},
   "source": [
    "Задание 2\n",
    "\n",
    "Написать код на Python в среде Jupyter Notebook для решения следующей задачи.\n",
    "Дана переменная, в которой хранится список поисковых запросов пользователя (пример\n",
    "структуры данных приведен ниже). Вам необходимо написать программу, которая выведет на\n",
    "экран распределение количества слов в запросах в требуемом вид"
   ]
  },
  {
   "cell_type": "code",
   "execution_count": 12,
   "metadata": {},
   "outputs": [
    {
     "name": "stdout",
     "output_type": "stream",
     "text": [
      "Поисковых запросов, содержащих 3 слов(а): 57.14%\n",
      "Поисковых запросов, содержащих 2 слов(а): 42.86%\n"
     ]
    }
   ],
   "source": [
    "queries = [\n",
    "    'смотреть сериалы онлайн',\n",
    "    'новости спорта',\n",
    "    'афиша кино',\n",
    "    'курс доллара',\n",
    "    'сериалы этим летом',\n",
    "    'курс по питону',\n",
    "    'сериалы про спорт',\n",
    "]\n",
    "\n",
    "word_count_distribution = {}\n",
    "\n",
    "for query in queries:\n",
    "    word_count = len(query.split())\n",
    "    if word_count in word_count_distribution:\n",
    "        word_count_distribution[word_count] += 1\n",
    "    else:\n",
    "        word_count_distribution[word_count] = 1\n",
    "\n",
    "total_queries = len(queries)\n",
    "\n",
    "for count, num_queries in word_count_distribution.items():\n",
    "    percentage = (num_queries / total_queries) * 100\n",
    "    print(f'Поисковых запросов, содержащих {count} слов(а): {percentage:.2f}%')"
   ]
  },
  {
   "cell_type": "markdown",
   "metadata": {},
   "source": [
    "Задание 1\n",
    "\n",
    "Написать код на Python в среде Jupyter Notebook для решения следующей задачи.\n",
    "Дана переменная, в которой хранится словарь, содержащий гео-метки для каждого\n",
    "пользователя (пример структуры данных приведен ниже). Вам необходимо написать\n",
    "программу, которая выведет на экран множество уникальных гео-меток всех пользователей."
   ]
  },
  {
   "cell_type": "code",
   "execution_count": null,
   "metadata": {},
   "outputs": [
    {
     "name": "stdout",
     "output_type": "stream",
     "text": [
      "Результат: {98, 35, 15, 213, 54, 119}\n"
     ]
    }
   ],
   "source": [
    "ids = {\n",
    "    'user1': [213, 213, 213, 15, 213],\n",
    "    'user2': [54, 54, 119, 119, 119],\n",
    "    'user3': [213, 98, 98, 35]\n",
    "}\n",
    "UniGeoTags = set()\n",
    "\n",
    "for user, GeoTags in ids.items():\n",
    "    UniGeoTags.update(GeoTags)\n",
    "\n",
    "print(\"Результат:\", UniGeoTags)"
   ]
  }
 ],
 "metadata": {
  "kernelspec": {
   "display_name": "Python 3",
   "language": "python",
   "name": "python3"
  },
  "language_info": {
   "codemirror_mode": {
    "name": "ipython",
    "version": 3
   },
   "file_extension": ".py",
   "mimetype": "text/x-python",
   "name": "python",
   "nbconvert_exporter": "python",
   "pygments_lexer": "ipython3",
   "version": "3.13.0"
  }
 },
 "nbformat": 4,
 "nbformat_minor": 2
}
