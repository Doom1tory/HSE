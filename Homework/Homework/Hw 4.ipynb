{
 "cells": [
  {
   "cell_type": "markdown",
   "metadata": {},
   "source": [
    "Задание 1\n",
    "Переведите содержимое файла purchase_log.txt в словарь purchases вида:\n",
    "{'1840e0b9d4': 'Продукты', ...}\n",
    "Пример работы программы при выводе первых двух элементов словаря\n",
    "purchases:\n",
    "1840e0b9d4 ‘Продукты‘\n",
    "4e4f90fcfb ‘Электроника‘"
   ]
  },
  {
   "cell_type": "code",
   "execution_count": 6,
   "metadata": {},
   "outputs": [
    {
     "name": "stdout",
     "output_type": "stream",
     "text": [
      "1840e0b9d4 'Продукты'\n",
      "4e4f90fcfb 'Электроника'\n",
      "afea8d72fc 'Электроника'\n",
      "373a6055fe 'Бытовая техника'\n",
      "9b2ab046f3 'Электроника'\n"
     ]
    }
   ],
   "source": [
    "import json\n",
    "import requests\n",
    "\n",
    "purchases = {}\n",
    "\n",
    "url = \"https://raw.githubusercontent.com/Doom1tory/HSE/master/Homework/Homework/purchase_log.txt\"\n",
    "\n",
    "response = requests.get(url)\n",
    "if response.status_code == 200:\n",
    "    lines = response.text.splitlines()\n",
    "    for i, line in enumerate(lines):\n",
    "        # Пропускаем первую строку\n",
    "        if i == 0:\n",
    "            continue\n",
    "        try:\n",
    "            data = json.loads(line)\n",
    "            if 'user_id' in data and 'category' in data:\n",
    "                purchases[data['user_id']] = data['category']\n",
    "        except json.JSONDecodeError:\n",
    "            continue\n",
    "\n",
    "# Функция для вывода произвольного количества элементов словаря\n",
    "def print_n_elements(dictionary, n):\n",
    "    for i, (user_id, category) in enumerate(dictionary.items()):\n",
    "        if i < n:\n",
    "            print(f\"{user_id} '{category}'\")\n",
    "        else:\n",
    "            break\n",
    "\n",
    "# Пример вывода первых 5 элементов\n",
    "print_n_elements(purchases, 5)\n"
   ]
  }
 ],
 "metadata": {
  "kernelspec": {
   "display_name": "Python 3",
   "language": "python",
   "name": "python3"
  },
  "language_info": {
   "codemirror_mode": {
    "name": "ipython",
    "version": 3
   },
   "file_extension": ".py",
   "mimetype": "text/x-python",
   "name": "python",
   "nbconvert_exporter": "python",
   "pygments_lexer": "ipython3",
   "version": "3.13.0"
  }
 },
 "nbformat": 4,
 "nbformat_minor": 2
}
